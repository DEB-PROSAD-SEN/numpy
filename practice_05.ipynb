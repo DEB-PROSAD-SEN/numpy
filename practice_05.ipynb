{
 "cells": [
  {
   "cell_type": "markdown",
   "metadata": {},
   "source": [
    "Initial Placeholders in numpy arrays"
   ]
  },
  {
   "cell_type": "code",
   "execution_count": 1,
   "metadata": {},
   "outputs": [
    {
     "name": "stdout",
     "output_type": "stream",
     "text": [
      "[[0. 0. 0. 0. 0.]\n",
      " [0. 0. 0. 0. 0.]\n",
      " [0. 0. 0. 0. 0.]\n",
      " [0. 0. 0. 0. 0.]]\n"
     ]
    }
   ],
   "source": [
    "#create ab numpy array for zeros\n",
    "import numpy as k\n",
    "j=k.zeros((4,5))\n",
    "print(j)"
   ]
  },
  {
   "cell_type": "code",
   "execution_count": 3,
   "metadata": {},
   "outputs": [
    {
     "name": "stdout",
     "output_type": "stream",
     "text": [
      "[[1. 1. 1. 1.]\n",
      " [1. 1. 1. 1.]\n",
      " [1. 1. 1. 1.]]\n"
     ]
    }
   ],
   "source": [
    "#create a numpy arrays of ones\n",
    "y=k.ones((3,4))\n",
    "print(y)"
   ]
  },
  {
   "cell_type": "code",
   "execution_count": 4,
   "metadata": {},
   "outputs": [
    {
     "name": "stdout",
     "output_type": "stream",
     "text": [
      "[[5 5 5 5 5]\n",
      " [5 5 5 5 5]\n",
      " [5 5 5 5 5]\n",
      " [5 5 5 5 5]]\n"
     ]
    }
   ],
   "source": [
    "#create an array of a particualr value\n",
    "z=k.full((4,5),5)\n",
    "print(z)"
   ]
  },
  {
   "cell_type": "code",
   "execution_count": 5,
   "metadata": {},
   "outputs": [
    {
     "name": "stdout",
     "output_type": "stream",
     "text": [
      "[[1. 0. 0. 0.]\n",
      " [0. 1. 0. 0.]\n",
      " [0. 0. 1. 0.]\n",
      " [0. 0. 0. 1.]]\n"
     ]
    }
   ],
   "source": [
    "#create an identity matrix\n",
    "i =k.eye(4)\n",
    "print(i)"
   ]
  },
  {
   "cell_type": "code",
   "execution_count": 7,
   "metadata": {},
   "outputs": [
    {
     "name": "stdout",
     "output_type": "stream",
     "text": [
      "[[0.52643168 0.70814709 0.13346474 0.66733313]\n",
      " [0.95469986 0.8721081  0.55748669 0.16010688]\n",
      " [0.02193178 0.23621399 0.62438079 0.07509609]]\n"
     ]
    }
   ],
   "source": [
    "#create an numpy array with random values\n",
    "r = k.random.random((3,4))\n",
    "print(r)"
   ]
  },
  {
   "cell_type": "code",
   "execution_count": 14,
   "metadata": {},
   "outputs": [
    {
     "name": "stdout",
     "output_type": "stream",
     "text": [
      "[[10 20 10 28]\n",
      " [21 16 10 21]\n",
      " [25 27 14 21]]\n"
     ]
    }
   ],
   "source": [
    "#create an random integer values array with a specific range\n",
    "ri = k.random.randint(10,30,(3,4))\n",
    "print(ri)"
   ]
  },
  {
   "cell_type": "code",
   "execution_count": 20,
   "metadata": {},
   "outputs": [
    {
     "name": "stdout",
     "output_type": "stream",
     "text": [
      "[10. 14. 18. 22. 26. 30.]\n"
     ]
    }
   ],
   "source": [
    "#create an array of evenly spaced values\n",
    "d = k.linspace(10,30,6)\n",
    "print(d)"
   ]
  },
  {
   "cell_type": "code",
   "execution_count": 22,
   "metadata": {},
   "outputs": [
    {
     "name": "stdout",
     "output_type": "stream",
     "text": [
      "[10 16 22 28]\n"
     ]
    }
   ],
   "source": [
    "#array of evenly spaced values -->specifining the step\n",
    "s=k.arange(10,30,6)\n",
    "print(s)"
   ]
  },
  {
   "cell_type": "code",
   "execution_count": 24,
   "metadata": {},
   "outputs": [
    {
     "name": "stdout",
     "output_type": "stream",
     "text": [
      "[1 2 3 4 5 6]\n"
     ]
    },
    {
     "data": {
      "text/plain": [
       "numpy.ndarray"
      ]
     },
     "execution_count": 24,
     "metadata": {},
     "output_type": "execute_result"
    }
   ],
   "source": [
    "#convert a list to a numpy array\n",
    "list2=[1,2,3,4,5,6]\n",
    "k_array=k.array(list2)\n",
    "print(k_array)\n",
    "type(k_array)"
   ]
  },
  {
   "cell_type": "markdown",
   "metadata": {},
   "source": [
    "analysing a perticular array"
   ]
  },
  {
   "cell_type": "code",
   "execution_count": 25,
   "metadata": {},
   "outputs": [
    {
     "name": "stdout",
     "output_type": "stream",
     "text": [
      "[[29 14 42 39 57]\n",
      " [13 72 74 24 34]\n",
      " [60 82 46 75 18]\n",
      " [14 80 37 36 18]\n",
      " [46 61 32 31 59]]\n"
     ]
    }
   ],
   "source": [
    "g= k.random.randint(10,90,(5,5))\n",
    "print(g)"
   ]
  },
  {
   "cell_type": "code",
   "execution_count": 27,
   "metadata": {},
   "outputs": [
    {
     "name": "stdout",
     "output_type": "stream",
     "text": [
      "(5, 5)\n",
      "2\n",
      "25\n",
      "int32\n"
     ]
    }
   ],
   "source": [
    "print(g.shape)#shape\n",
    "print(g.ndim)#dimention\n",
    "print(g.size)#number of elements\n",
    "print(g.dtype)#deta type of element"
   ]
  },
  {
   "cell_type": "markdown",
   "metadata": {},
   "source": [
    "Mathamatical operation on numpy array"
   ]
  },
  {
   "cell_type": "code",
   "execution_count": 40,
   "metadata": {},
   "outputs": [
    {
     "name": "stdout",
     "output_type": "stream",
     "text": [
      "[3, 4, 5, 6, 7, 8, 9, 10]\n",
      "[[3 3 5]\n",
      " [8 3 4]\n",
      " [1 0 1]]\n",
      "[[15 17 13]\n",
      " [16 18 18]\n",
      " [13 18 10]]\n",
      "[[18 20 18]\n",
      " [24 21 22]\n",
      " [14 18 11]]\n",
      "[[ 45  51  65]\n",
      " [128  54  72]\n",
      " [ 13   0  10]]\n",
      "[[0.2        0.17647059 0.38461538]\n",
      " [0.5        0.16666667 0.22222222]\n",
      " [0.07692308 0.         0.1       ]]\n"
     ]
    }
   ],
   "source": [
    "list3=[3,4,5,6]\n",
    "list4=[7,8,9,10]\n",
    "print(list3+list4)\n",
    "rn=k.random.randint(0,10,(3,3))\n",
    "rnn=k.random.randint(10,20,(3,3))\n",
    "print(rn)\n",
    "print(rnn)\n",
    "print(k.add(rn,rnn))\n",
    "print(k.multiply(rn,rnn))\n",
    "print(k.divide(rn,rnn))"
   ]
  }
 ],
 "metadata": {
  "kernelspec": {
   "display_name": "Python 3",
   "language": "python",
   "name": "python3"
  },
  "language_info": {
   "codemirror_mode": {
    "name": "ipython",
    "version": 3
   },
   "file_extension": ".py",
   "mimetype": "text/x-python",
   "name": "python",
   "nbconvert_exporter": "python",
   "pygments_lexer": "ipython3",
   "version": "3.12.3"
  }
 },
 "nbformat": 4,
 "nbformat_minor": 2
}
